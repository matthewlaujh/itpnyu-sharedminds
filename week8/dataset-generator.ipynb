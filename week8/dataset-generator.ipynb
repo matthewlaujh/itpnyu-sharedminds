{
 "cells": [
  {
   "cell_type": "code",
   "execution_count": 3,
   "metadata": {},
   "outputs": [
    {
     "name": "stdout",
     "output_type": "stream",
     "text": [
      "Dataset({\n",
      "    features: ['image', 'label'],\n",
      "    num_rows: 667\n",
      "})\n"
     ]
    },
    {
     "name": "stderr",
     "output_type": "stream",
     "text": [
      "Saving the dataset (0/2 shards):   0%|          | 0/667 [00:00<?, ? examples/s]"
     ]
    },
    {
     "name": "stderr",
     "output_type": "stream",
     "text": [
      "Saving the dataset (2/2 shards): 100%|██████████| 667/667 [00:00<00:00, 1369.29 examples/s]\n"
     ]
    }
   ],
   "source": [
    "from datasets import Dataset, Features, Image, Value\n",
    "import os\n",
    "\n",
    "# Define your image folder path\n",
    "image_dir = \"images\"\n",
    "\n",
    "# List all image file paths\n",
    "image_files = [os.path.join(image_dir, fname) for fname in os.listdir(image_dir) if fname.endswith(\".jpg\")]\n",
    "\n",
    "# Create a dataset from image paths\n",
    "dataset = Dataset.from_dict({\n",
    "    \"image\": image_files,\n",
    "    \"label\": [0] * len(image_files)  # You can replace this with actual labels if you have them\n",
    "}, features=Features({\n",
    "    \"image\": Image(),          # Define that this column contains images\n",
    "    \"label\": Value(\"int64\")    # Define the correct type for the labels\n",
    "}))\n",
    "\n",
    "# Preview your dataset\n",
    "print(dataset)\n",
    "\n",
    "dataset.save_to_disk(\"images\")"
   ]
  }
 ],
 "metadata": {
  "kernelspec": {
   "display_name": ".venv",
   "language": "python",
   "name": "python3"
  },
  "language_info": {
   "codemirror_mode": {
    "name": "ipython",
    "version": 3
   },
   "file_extension": ".py",
   "mimetype": "text/x-python",
   "name": "python",
   "nbconvert_exporter": "python",
   "pygments_lexer": "ipython3",
   "version": "3.12.6"
  }
 },
 "nbformat": 4,
 "nbformat_minor": 2
}
