{
 "cells": [
  {
   "cell_type": "code",
   "execution_count": 9,
   "metadata": {},
   "outputs": [
    {
     "name": "stdout",
     "output_type": "stream",
     "text": [
      "Dataset({\n",
      "    features: ['image', 'label'],\n",
      "    num_rows: 178\n",
      "})\n"
     ]
    },
    {
     "data": {
      "application/vnd.jupyter.widget-view+json": {
       "model_id": "4a1b6b34a9774cbc88b0c1398dd8d0f4",
       "version_major": 2,
       "version_minor": 0
      },
      "text/plain": [
       "Saving the dataset (0/1 shards):   0%|          | 0/178 [00:00<?, ? examples/s]"
      ]
     },
     "metadata": {},
     "output_type": "display_data"
    }
   ],
   "source": [
    "from datasets import Dataset, Features, Image, Value\n",
    "import os\n",
    "\n",
    "# Define your image folder path\n",
    "image_dir = \"images/train/\"\n",
    "\n",
    "# List all image file paths\n",
    "image_files = [os.path.join(image_dir, fname) for fname in os.listdir(image_dir) if fname.endswith(\".jpg\")]\n",
    "\n",
    "# Create a dataset from image paths\n",
    "dataset = Dataset.from_dict({\n",
    "    \"image\": image_files,\n",
    "    \"label\": [0] * len(image_files)  # You can replace this with actual labels if you have them\n",
    "}, features=Features({\n",
    "    \"image\": Image(),          # Define that this column contains images\n",
    "    \"label\": Value(\"int64\")    # Define the correct type for the labels\n",
    "}))\n",
    "\n",
    "# Preview your dataset\n",
    "print(dataset)\n",
    "\n",
    "dataset.save_to_disk(\"images/train_dataset.arrow\")\n"
   ]
  },
  {
   "cell_type": "code",
   "execution_count": 11,
   "metadata": {},
   "outputs": [
    {
     "name": "stdout",
     "output_type": "stream",
     "text": [
      "Dataset for Australia:\n",
      "Dataset({\n",
      "    features: ['image', 'label'],\n",
      "    num_rows: 178\n",
      "})\n"
     ]
    },
    {
     "data": {
      "application/vnd.jupyter.widget-view+json": {
       "model_id": "771c637c57ca48118f50a9d6a1ac0033",
       "version_major": 2,
       "version_minor": 0
      },
      "text/plain": [
       "Saving the dataset (0/1 shards):   0%|          | 0/178 [00:00<?, ? examples/s]"
      ]
     },
     "metadata": {},
     "output_type": "display_data"
    },
    {
     "name": "stdout",
     "output_type": "stream",
     "text": [
      "Dataset for Myanmar:\n",
      "Dataset({\n",
      "    features: ['image', 'label'],\n",
      "    num_rows: 92\n",
      "})\n"
     ]
    },
    {
     "data": {
      "application/vnd.jupyter.widget-view+json": {
       "model_id": "b064cdcccae040ecb5c017fa674ff00e",
       "version_major": 2,
       "version_minor": 0
      },
      "text/plain": [
       "Saving the dataset (0/5 shards):   0%|          | 0/92 [00:00<?, ? examples/s]"
      ]
     },
     "metadata": {},
     "output_type": "display_data"
    },
    {
     "name": "stdout",
     "output_type": "stream",
     "text": [
      "Dataset for Taiwan:\n",
      "Dataset({\n",
      "    features: ['image', 'label'],\n",
      "    num_rows: 16\n",
      "})\n"
     ]
    },
    {
     "data": {
      "application/vnd.jupyter.widget-view+json": {
       "model_id": "dae8d00724ee48f8881670766bd455e7",
       "version_major": 2,
       "version_minor": 0
      },
      "text/plain": [
       "Saving the dataset (0/1 shards):   0%|          | 0/16 [00:00<?, ? examples/s]"
      ]
     },
     "metadata": {},
     "output_type": "display_data"
    },
    {
     "name": "stdout",
     "output_type": "stream",
     "text": [
      "Dataset for Japan:\n",
      "Dataset({\n",
      "    features: ['image', 'label'],\n",
      "    num_rows: 337\n",
      "})\n"
     ]
    },
    {
     "data": {
      "application/vnd.jupyter.widget-view+json": {
       "model_id": "0d4c80982bba44d49063cf02f598248e",
       "version_major": 2,
       "version_minor": 0
      },
      "text/plain": [
       "Saving the dataset (0/2 shards):   0%|          | 0/337 [00:00<?, ? examples/s]"
      ]
     },
     "metadata": {},
     "output_type": "display_data"
    },
    {
     "name": "stdout",
     "output_type": "stream",
     "text": [
      "Dataset for Bangkok:\n",
      "Dataset({\n",
      "    features: ['image', 'label'],\n",
      "    num_rows: 139\n",
      "})\n"
     ]
    },
    {
     "data": {
      "application/vnd.jupyter.widget-view+json": {
       "model_id": "f34f8862f320490b94b50beccf2c111a",
       "version_major": 2,
       "version_minor": 0
      },
      "text/plain": [
       "Saving the dataset (0/1 shards):   0%|          | 0/139 [00:00<?, ? examples/s]"
      ]
     },
     "metadata": {},
     "output_type": "display_data"
    }
   ],
   "source": [
    "from datasets import Dataset, Features, Image, Value\n",
    "import os\n",
    "\n",
    "# Define your base image folder path\n",
    "base_image_dir = \"images/train/\"\n",
    "\n",
    "# List all subdirectories in the base image folder\n",
    "subdirs = [d for d in os.listdir(base_image_dir) if os.path.isdir(os.path.join(base_image_dir, d))]\n",
    "\n",
    "for subdir in subdirs:\n",
    "    image_dir = os.path.join(base_image_dir, subdir)\n",
    "    \n",
    "    # List all image file paths in the current subdirectory\n",
    "    image_files = [os.path.join(image_dir, fname) for fname in os.listdir(image_dir) if fname.endswith(\".jpg\")]\n",
    "    \n",
    "    # Create a dataset from image paths\n",
    "    dataset = Dataset.from_dict({\n",
    "        \"image\": image_files,\n",
    "        \"label\": [0] * len(image_files)  # You can replace this with actual labels if you have them\n",
    "    }, features=Features({\n",
    "        \"image\": Image(),          # Define that this column contains images\n",
    "        \"label\": Value(\"int64\")    # Define the correct type for the labels\n",
    "    }))\n",
    "    \n",
    "    # Preview your dataset\n",
    "    print(f\"Dataset for {subdir}:\")\n",
    "    print(dataset)\n",
    "    \n",
    "    # Save the dataset to disk\n",
    "    dataset.save_to_disk(f\"images/{subdir}_dataset.arrow\")"
   ]
  }
 ],
 "metadata": {
  "kernelspec": {
   "display_name": ".venv",
   "language": "python",
   "name": "python3"
  },
  "language_info": {
   "codemirror_mode": {
    "name": "ipython",
    "version": 3
   },
   "file_extension": ".py",
   "mimetype": "text/x-python",
   "name": "python",
   "nbconvert_exporter": "python",
   "pygments_lexer": "ipython3",
   "version": "3.12.6"
  }
 },
 "nbformat": 4,
 "nbformat_minor": 2
}
